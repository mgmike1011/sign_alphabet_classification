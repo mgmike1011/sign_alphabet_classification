{
 "cells": [
  {
   "cell_type": "code",
   "execution_count": 9,
   "outputs": [],
   "source": [
    "import numpy as np\n",
    "import pandas as pd\n",
    "import matplotlib.pyplot as plt\n",
    "from sklearn.preprocessing import LabelEncoder\n",
    "from sklearn.model_selection import train_test_split\n",
    "from sklearn.metrics import f1_score\n"
   ],
   "metadata": {
    "collapsed": false,
    "ExecuteTime": {
     "end_time": "2023-06-02T13:52:29.321428382Z",
     "start_time": "2023-06-02T13:52:29.275292863Z"
    }
   }
  },
  {
   "cell_type": "code",
   "execution_count": 10,
   "outputs": [],
   "source": [
    "df = pd.read_csv('../datasets/WZUM_dataset_v3.csv', index_col=0)\n",
    "columns_to_drop = ['world_landmark_0.x','world_landmark_0.y','world_landmark_0.z','world_landmark_1.x',\n",
    "                   'world_landmark_1.y','world_landmark_1.z','world_landmark_2.x','world_landmark_2.y',\n",
    "                   'world_landmark_2.z','world_landmark_3.x','world_landmark_3.y','world_landmark_3.z',\n",
    "                   'world_landmark_4.x','world_landmark_4.y','world_landmark_4.z','world_landmark_5.x',\n",
    "                   'world_landmark_5.y','world_landmark_5.z','world_landmark_6.x','world_landmark_6.y',\n",
    "                   'world_landmark_6.z','world_landmark_7.x','world_landmark_7.y','world_landmark_7.z',\n",
    "                   'world_landmark_8.x','world_landmark_8.y','world_landmark_8.z','world_landmark_9.x',\n",
    "                   'world_landmark_9.y','world_landmark_9.z','world_landmark_10.x','world_landmark_10.y',\n",
    "                   'world_landmark_10.z','world_landmark_11.x','world_landmark_11.y','world_landmark_11.z',\n",
    "                   'world_landmark_12.x','world_landmark_12.y','world_landmark_12.z','world_landmark_13.x',\n",
    "                   'world_landmark_13.y','world_landmark_13.z','world_landmark_14.x','world_landmark_14.y',\n",
    "                   'world_landmark_14.z','world_landmark_15.x','world_landmark_15.y','world_landmark_15.z',\n",
    "                   'world_landmark_16.x','world_landmark_16.y','world_landmark_16.z','world_landmark_17.x',\n",
    "                   'world_landmark_17.y','world_landmark_17.z','world_landmark_18.x','world_landmark_18.y',\n",
    "                   'world_landmark_18.z','world_landmark_19.x','world_landmark_19.y','world_landmark_19.z',\n",
    "                   'world_landmark_20.x','world_landmark_20.y','world_landmark_20.z','handedness.score', 'letter','handedness.label'] #,'handedness.label'\n",
    "X = df.drop(columns_to_drop, axis=1)\n",
    "y = df['letter']"
   ],
   "metadata": {
    "collapsed": false,
    "ExecuteTime": {
     "end_time": "2023-06-02T13:52:33.882876710Z",
     "start_time": "2023-06-02T13:52:33.752116009Z"
    }
   }
  },
  {
   "cell_type": "code",
   "execution_count": 11,
   "outputs": [],
   "source": [
    "X_train, X_test, y_train, y_test = train_test_split(X, y, test_size=0.2, random_state=42, stratify=y, shuffle=True)"
   ],
   "metadata": {
    "collapsed": false,
    "ExecuteTime": {
     "end_time": "2023-06-02T13:52:37.831708430Z",
     "start_time": "2023-06-02T13:52:37.823969370Z"
    }
   }
  },
  {
   "cell_type": "code",
   "execution_count": 12,
   "outputs": [],
   "source": [
    "from sklearn.preprocessing import StandardScaler\n",
    "sc = StandardScaler()\n",
    "X_train = sc.fit_transform(X_train)\n",
    "X_test = sc.transform(X_test)"
   ],
   "metadata": {
    "collapsed": false,
    "ExecuteTime": {
     "end_time": "2023-06-02T13:52:40.080749763Z",
     "start_time": "2023-06-02T13:52:40.068303094Z"
    }
   }
  },
  {
   "cell_type": "code",
   "execution_count": 5,
   "outputs": [
    {
     "data": {
      "text/plain": "SVC(C=1000, degree=1, gamma=0.9, kernel='poly')",
      "text/html": "<style>#sk-container-id-1 {color: black;background-color: white;}#sk-container-id-1 pre{padding: 0;}#sk-container-id-1 div.sk-toggleable {background-color: white;}#sk-container-id-1 label.sk-toggleable__label {cursor: pointer;display: block;width: 100%;margin-bottom: 0;padding: 0.3em;box-sizing: border-box;text-align: center;}#sk-container-id-1 label.sk-toggleable__label-arrow:before {content: \"▸\";float: left;margin-right: 0.25em;color: #696969;}#sk-container-id-1 label.sk-toggleable__label-arrow:hover:before {color: black;}#sk-container-id-1 div.sk-estimator:hover label.sk-toggleable__label-arrow:before {color: black;}#sk-container-id-1 div.sk-toggleable__content {max-height: 0;max-width: 0;overflow: hidden;text-align: left;background-color: #f0f8ff;}#sk-container-id-1 div.sk-toggleable__content pre {margin: 0.2em;color: black;border-radius: 0.25em;background-color: #f0f8ff;}#sk-container-id-1 input.sk-toggleable__control:checked~div.sk-toggleable__content {max-height: 200px;max-width: 100%;overflow: auto;}#sk-container-id-1 input.sk-toggleable__control:checked~label.sk-toggleable__label-arrow:before {content: \"▾\";}#sk-container-id-1 div.sk-estimator input.sk-toggleable__control:checked~label.sk-toggleable__label {background-color: #d4ebff;}#sk-container-id-1 div.sk-label input.sk-toggleable__control:checked~label.sk-toggleable__label {background-color: #d4ebff;}#sk-container-id-1 input.sk-hidden--visually {border: 0;clip: rect(1px 1px 1px 1px);clip: rect(1px, 1px, 1px, 1px);height: 1px;margin: -1px;overflow: hidden;padding: 0;position: absolute;width: 1px;}#sk-container-id-1 div.sk-estimator {font-family: monospace;background-color: #f0f8ff;border: 1px dotted black;border-radius: 0.25em;box-sizing: border-box;margin-bottom: 0.5em;}#sk-container-id-1 div.sk-estimator:hover {background-color: #d4ebff;}#sk-container-id-1 div.sk-parallel-item::after {content: \"\";width: 100%;border-bottom: 1px solid gray;flex-grow: 1;}#sk-container-id-1 div.sk-label:hover label.sk-toggleable__label {background-color: #d4ebff;}#sk-container-id-1 div.sk-serial::before {content: \"\";position: absolute;border-left: 1px solid gray;box-sizing: border-box;top: 0;bottom: 0;left: 50%;z-index: 0;}#sk-container-id-1 div.sk-serial {display: flex;flex-direction: column;align-items: center;background-color: white;padding-right: 0.2em;padding-left: 0.2em;position: relative;}#sk-container-id-1 div.sk-item {position: relative;z-index: 1;}#sk-container-id-1 div.sk-parallel {display: flex;align-items: stretch;justify-content: center;background-color: white;position: relative;}#sk-container-id-1 div.sk-item::before, #sk-container-id-1 div.sk-parallel-item::before {content: \"\";position: absolute;border-left: 1px solid gray;box-sizing: border-box;top: 0;bottom: 0;left: 50%;z-index: -1;}#sk-container-id-1 div.sk-parallel-item {display: flex;flex-direction: column;z-index: 1;position: relative;background-color: white;}#sk-container-id-1 div.sk-parallel-item:first-child::after {align-self: flex-end;width: 50%;}#sk-container-id-1 div.sk-parallel-item:last-child::after {align-self: flex-start;width: 50%;}#sk-container-id-1 div.sk-parallel-item:only-child::after {width: 0;}#sk-container-id-1 div.sk-dashed-wrapped {border: 1px dashed gray;margin: 0 0.4em 0.5em 0.4em;box-sizing: border-box;padding-bottom: 0.4em;background-color: white;}#sk-container-id-1 div.sk-label label {font-family: monospace;font-weight: bold;display: inline-block;line-height: 1.2em;}#sk-container-id-1 div.sk-label-container {text-align: center;}#sk-container-id-1 div.sk-container {/* jupyter's `normalize.less` sets `[hidden] { display: none; }` but bootstrap.min.css set `[hidden] { display: none !important; }` so we also need the `!important` here to be able to override the default hidden behavior on the sphinx rendered scikit-learn.org. See: https://github.com/scikit-learn/scikit-learn/issues/21755 */display: inline-block !important;position: relative;}#sk-container-id-1 div.sk-text-repr-fallback {display: none;}</style><div id=\"sk-container-id-1\" class=\"sk-top-container\"><div class=\"sk-text-repr-fallback\"><pre>SVC(C=1000, degree=1, gamma=0.9, kernel=&#x27;poly&#x27;)</pre><b>In a Jupyter environment, please rerun this cell to show the HTML representation or trust the notebook. <br />On GitHub, the HTML representation is unable to render, please try loading this page with nbviewer.org.</b></div><div class=\"sk-container\" hidden><div class=\"sk-item\"><div class=\"sk-estimator sk-toggleable\"><input class=\"sk-toggleable__control sk-hidden--visually\" id=\"sk-estimator-id-1\" type=\"checkbox\" checked><label for=\"sk-estimator-id-1\" class=\"sk-toggleable__label sk-toggleable__label-arrow\">SVC</label><div class=\"sk-toggleable__content\"><pre>SVC(C=1000, degree=1, gamma=0.9, kernel=&#x27;poly&#x27;)</pre></div></div></div></div></div>"
     },
     "execution_count": 5,
     "metadata": {},
     "output_type": "execute_result"
    }
   ],
   "source": [
    "from sklearn.svm import SVC\n",
    "mdl = SVC(C=1000, degree=1, gamma=0.9, kernel='poly')\n",
    "mdl.fit(X_train, y_train)"
   ],
   "metadata": {
    "collapsed": false,
    "ExecuteTime": {
     "end_time": "2023-06-02T13:48:24.264919021Z",
     "start_time": "2023-06-02T13:48:12.399858725Z"
    }
   }
  },
  {
   "cell_type": "code",
   "execution_count": 8,
   "outputs": [
    {
     "name": "stdout",
     "output_type": "stream",
     "text": [
      "Mean score TEST : 0.9309338521400778\n",
      "Mean score TRAIN: 0.9905086395716719\n",
      "F1 score: [0.78350515 0.97674419 0.96629213 0.93023256 0.95348837 0.98850575\n",
      " 0.95555556 1.         0.97777778 0.95238095 0.90909091 0.81818182\n",
      " 0.95238095 1.         0.98850575 0.96470588 0.84337349 0.78947368\n",
      " 0.96296296 0.81395349 0.9047619  1.         0.9382716  0.97560976]\n"
     ]
    }
   ],
   "source": [
    "score = mdl.score(X_test, y_test)\n",
    "print(f'Mean score TEST : {score}')\n",
    "score = mdl.score(X_train, y_train)\n",
    "print(f'Mean score TRAIN: {score}')\n",
    "print(f'F1 score: {f1_score(y_test, mdl.predict(X_test),average=None)}')"
   ],
   "metadata": {
    "collapsed": false,
    "ExecuteTime": {
     "end_time": "2023-06-02T13:49:39.562799112Z",
     "start_time": "2023-06-02T13:49:39.123115639Z"
    }
   }
  },
  {
   "cell_type": "markdown",
   "source": [
    "# Grid search"
   ],
   "metadata": {
    "collapsed": false
   }
  },
  {
   "cell_type": "code",
   "execution_count": 15,
   "outputs": [
    {
     "name": "stdout",
     "output_type": "stream",
     "text": [
      "Best Accuracy: 94.09 %\n",
      "Best Parameters: {'C': 1000, 'degree': 1, 'gamma': 0.2, 'kernel': 'poly'}\n"
     ]
    }
   ],
   "source": [
    "from sklearn.model_selection import GridSearchCV\n",
    "from sklearn.svm import SVC\n",
    "classifier = SVC(kernel = 'rbf')\n",
    "parameters = [{'C': [0.25, 0.5, 0.75, 1, 10, 100, 1000], 'kernel': ['linear']},\n",
    "              {'C': [0.25, 0.5, 0.75, 1, 10, 100, 1000], 'kernel': ['poly'], 'degree':[1,2,3, 4, 5, 6, 7, 8, 9, 10], 'gamma': [0.1, 0.2, 0.3, 0.4, 0.5, 0.6, 0.7, 0.8, 0.9,1, 0.1, 0.01, 0.001, 0.0001, 'auto']},\n",
    "              {'C': [0.25, 0.5, 0.75, 1, 10, 100, 1000], 'kernel': ['rbf'], 'gamma': [0.1, 0.2, 0.3, 0.4, 0.5, 0.6, 0.7, 0.8, 0.9,1, 0.1, 0.01, 0.001, 0.0001, 'auto']},\n",
    "              {'C': [0.25, 0.5, 0.75, 1, 10, 100, 1000], 'kernel': ['sigmoid'], 'gamma': [0.1, 0.2, 0.3, 0.4, 0.5, 0.6, 0.7, 0.8, 0.9,1, 0.1, 0.01, 0.001, 0.0001, 'auto']}]\n",
    "grid_search = GridSearchCV(estimator = classifier,\n",
    "                           param_grid = parameters,\n",
    "                           scoring = 'f1_micro',\n",
    "                           cv = 10,\n",
    "                           n_jobs = -1)\n",
    "grid_search.fit(X_train, y_train)\n",
    "best_accuracy = grid_search.best_score_\n",
    "best_parameters = grid_search.best_params_\n",
    "print(\"Best Accuracy: {:.2f} %\".format(best_accuracy*100))\n",
    "print(\"Best Parameters:\", best_parameters)"
   ],
   "metadata": {
    "collapsed": false,
    "ExecuteTime": {
     "end_time": "2023-06-02T14:31:11.669075361Z",
     "start_time": "2023-06-02T13:53:06.203263092Z"
    }
   }
  },
  {
   "cell_type": "code",
   "execution_count": 16,
   "outputs": [
    {
     "name": "stdout",
     "output_type": "stream",
     "text": [
      "Mean score TEST : 0.9348249027237355\n",
      "Mean score TRAIN: 0.9866147481138964\n",
      "F1 score: [0.82474227 0.97674419 0.96629213 0.93023256 0.95348837 0.98850575\n",
      " 0.95555556 1.         0.97777778 0.95238095 0.90909091 0.86363636\n",
      " 0.95238095 1.         0.98850575 0.96470588 0.84705882 0.78947368\n",
      " 0.96296296 0.80952381 0.9047619  1.         0.9382716  0.97560976]\n"
     ]
    }
   ],
   "source": [
    "score = grid_search.score(X_test, y_test)\n",
    "print(f'Mean score TEST : {score}')\n",
    "score = grid_search.score(X_train, y_train)\n",
    "print(f'Mean score TRAIN: {score}')\n",
    "print(f'F1 score: {f1_score(y_test, grid_search.predict(X_test), average=None)}')"
   ],
   "metadata": {
    "collapsed": false,
    "ExecuteTime": {
     "end_time": "2023-06-02T14:31:26.285259552Z",
     "start_time": "2023-06-02T14:31:25.808128013Z"
    }
   }
  },
  {
   "cell_type": "markdown",
   "source": [
    "# Voting"
   ],
   "metadata": {
    "collapsed": false
   }
  },
  {
   "cell_type": "code",
   "execution_count": 20,
   "outputs": [
    {
     "name": "stdout",
     "output_type": "stream",
     "text": [
      "Mean score TEST : 0.9494163424124513\n",
      "Mean score TRAIN: 0.9934290581650036\n",
      "F1 score: [0.84848485 0.97674419 0.95454545 0.94252874 0.95454545 0.98850575\n",
      " 0.96629213 1.         0.97777778 0.95238095 0.96470588 0.9047619\n",
      " 0.95238095 0.98823529 0.97674419 0.96470588 0.90697674 0.81578947\n",
      " 0.98795181 0.88372093 0.9382716  1.         0.96385542 0.97560976]\n"
     ]
    }
   ],
   "source": [
    "from sklearn.ensemble import VotingClassifier\n",
    "from sklearn.svm import LinearSVC\n",
    "from sklearn.neural_network import MLPClassifier\n",
    "clf = VotingClassifier([\n",
    "    ('SVC_1', SVC(C=1000, degree=1, gamma=0.9, kernel='poly')),\n",
    "    ('MLP', MLPClassifier(max_iter=1000)),\n",
    "    ('Lin_SVC_1', LinearSVC(C=1000, dual=False, loss='squared_hinge', multi_class='ovr', penalty='l2',max_iter=10000 ))\n",
    "])\n",
    "clf.fit(X_train, y_train)\n",
    "# print(clf.score(X_test, y_test))\n",
    "score = clf.score(X_test, y_test)\n",
    "print(f'Mean score TEST : {score}')\n",
    "score = clf.score(X_train, y_train)\n",
    "print(f'Mean score TRAIN: {score}')\n",
    "print(f'F1 score: {f1_score(y_test, clf.predict(X_test), average=None)}')"
   ],
   "metadata": {
    "collapsed": false,
    "ExecuteTime": {
     "end_time": "2023-06-02T14:40:07.139987544Z",
     "start_time": "2023-06-02T14:39:27.968715913Z"
    }
   }
  },
  {
   "cell_type": "markdown",
   "source": [
    "# Stacking"
   ],
   "metadata": {
    "collapsed": false
   }
  },
  {
   "cell_type": "code",
   "execution_count": 19,
   "outputs": [
    {
     "name": "stderr",
     "output_type": "stream",
     "text": [
      "/home/milosz/RiSA_1/WZUM/lib/python3.10/site-packages/sklearn/neural_network/_multilayer_perceptron.py:684: ConvergenceWarning: Stochastic Optimizer: Maximum iterations (200) reached and the optimization hasn't converged yet.\n",
      "  warnings.warn(\n",
      "/home/milosz/RiSA_1/WZUM/lib/python3.10/site-packages/sklearn/neural_network/_multilayer_perceptron.py:684: ConvergenceWarning: Stochastic Optimizer: Maximum iterations (200) reached and the optimization hasn't converged yet.\n",
      "  warnings.warn(\n",
      "/home/milosz/RiSA_1/WZUM/lib/python3.10/site-packages/sklearn/neural_network/_multilayer_perceptron.py:684: ConvergenceWarning: Stochastic Optimizer: Maximum iterations (200) reached and the optimization hasn't converged yet.\n",
      "  warnings.warn(\n",
      "/home/milosz/RiSA_1/WZUM/lib/python3.10/site-packages/sklearn/neural_network/_multilayer_perceptron.py:684: ConvergenceWarning: Stochastic Optimizer: Maximum iterations (200) reached and the optimization hasn't converged yet.\n",
      "  warnings.warn(\n",
      "/home/milosz/RiSA_1/WZUM/lib/python3.10/site-packages/sklearn/neural_network/_multilayer_perceptron.py:684: ConvergenceWarning: Stochastic Optimizer: Maximum iterations (200) reached and the optimization hasn't converged yet.\n",
      "  warnings.warn(\n",
      "/home/milosz/RiSA_1/WZUM/lib/python3.10/site-packages/sklearn/neural_network/_multilayer_perceptron.py:684: ConvergenceWarning: Stochastic Optimizer: Maximum iterations (200) reached and the optimization hasn't converged yet.\n",
      "  warnings.warn(\n"
     ]
    },
    {
     "name": "stdout",
     "output_type": "stream",
     "text": [
      "Mean score TEST : 0.8793774319066148\n",
      "Mean score TRAIN: 0.9155512290094914\n",
      "F1 score: [0.61904762 0.98850575 0.97674419 0.8988764  0.89655172 0.95555556\n",
      " 0.95555556 1.         0.96703297 0.93975904 0.92857143 0.7311828\n",
      " 0.87179487 0.92857143 0.95348837 0.96385542 0.71794872 0.58426966\n",
      " 0.98823529 0.63366337 0.73972603 1.         0.9382716  0.95121951]\n"
     ]
    }
   ],
   "source": [
    "from sklearn.ensemble import StackingClassifier\n",
    "from sklearn.svm import LinearSVC\n",
    "from sklearn.neural_network import MLPClassifier\n",
    "clf_2 = StackingClassifier([\n",
    "    ('SVC_1', SVC(C=1000, degree=1, gamma=0.9, kernel='poly')),\n",
    "    ('MLP', MLPClassifier()),\n",
    "    ('Lin_SVC_1', LinearSVC(C=1000, dual=False, loss='squared_hinge', multi_class='ovr', penalty='l2',max_iter=10000 ))\n",
    "],SVC())\n",
    "clf_2.fit(X_train, y_train)\n",
    "# print(clf.score(X_test, y_test))\n",
    "score = clf_2.score(X_test, y_test)\n",
    "print(f'Mean score TEST : {score}')\n",
    "score = clf_2.score(X_train, y_train)\n",
    "print(f'Mean score TRAIN: {score}')\n",
    "print(f'F1 score: {f1_score(y_test, clf_2.predict(X_test), average=None)}')"
   ],
   "metadata": {
    "collapsed": false,
    "ExecuteTime": {
     "end_time": "2023-06-02T14:38:58.741704256Z",
     "start_time": "2023-06-02T14:36:46.344821076Z"
    }
   }
  }
 ],
 "metadata": {
  "kernelspec": {
   "display_name": "Python 3",
   "language": "python",
   "name": "python3"
  },
  "language_info": {
   "codemirror_mode": {
    "name": "ipython",
    "version": 2
   },
   "file_extension": ".py",
   "mimetype": "text/x-python",
   "name": "python",
   "nbconvert_exporter": "python",
   "pygments_lexer": "ipython2",
   "version": "2.7.6"
  }
 },
 "nbformat": 4,
 "nbformat_minor": 0
}
